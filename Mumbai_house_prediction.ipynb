{
 "cells": [
  {
   "cell_type": "code",
   "execution_count": null,
   "id": "c962dbac",
   "metadata": {},
   "outputs": [
    {
     "ename": "",
     "evalue": "",
     "output_type": "error",
     "traceback": [
      "\u001b[1;31mRunning cells with 'venv (Python 3.12.7)' requires the ipykernel package.\n",
      "\u001b[1;31mInstall 'ipykernel' into the Python environment. \n",
      "\u001b[1;31mCommand: '/Users/amritadebnath/Mumbai_House_price_prediction/venv/bin/python -m pip install ipykernel -U --force-reinstall'"
     ]
    }
   ],
   "source": [
    "import pandas as pd\n",
    "import numpy as np"
   ]
  },
  {
   "cell_type": "code",
   "execution_count": null,
   "id": "1d1d562c",
   "metadata": {},
   "outputs": [],
   "source": [
    "df= pd.read_csv('Mumbai House Prices.csv')\n",
    "df.head()"
   ]
  },
  {
   "cell_type": "code",
   "execution_count": null,
   "id": "2846161a",
   "metadata": {},
   "outputs": [],
   "source": [
    "df.shape"
   ]
  },
  {
   "cell_type": "code",
   "execution_count": null,
   "id": "98efd71f",
   "metadata": {},
   "outputs": [],
   "source": [
    "df.describe()"
   ]
  },
  {
   "cell_type": "code",
   "execution_count": null,
   "id": "081a6f20",
   "metadata": {},
   "outputs": [],
   "source": [
    "df.isna().sum()"
   ]
  },
  {
   "cell_type": "code",
   "execution_count": null,
   "id": "5ab53175",
   "metadata": {},
   "outputs": [],
   "source": [
    "#Dropping the duplicate rows\n",
    "df=df.drop_duplicates()\n",
    "df.describe()"
   ]
  },
  {
   "cell_type": "code",
   "execution_count": null,
   "id": "25f99176",
   "metadata": {},
   "outputs": [],
   "source": [
    "df.price_unit.unique()"
   ]
  },
  {
   "cell_type": "code",
   "execution_count": null,
   "id": "fa47ba2d",
   "metadata": {},
   "outputs": [],
   "source": [
    "#Converting all the prices to lakhs\n",
    "def cnvrt_price_to_lakhs(row):\n",
    "    return row['price']*100 if row['price_unit']=='Cr' else row['price']\n",
    "df['price_lakhs']=df.apply(cnvrt_price_to_lakhs, axis=1)"
   ]
  },
  {
   "cell_type": "code",
   "execution_count": null,
   "id": "ca6a408c",
   "metadata": {},
   "outputs": [],
   "source": [
    "df.head()"
   ]
  },
  {
   "cell_type": "code",
   "execution_count": null,
   "id": "cc350060",
   "metadata": {},
   "outputs": [],
   "source": [
    "# 'price' and 'price_unit' column dropped \n",
    "df1=df.drop(['price','price_unit'],axis=1)"
   ]
  },
  {
   "cell_type": "code",
   "execution_count": null,
   "id": "2c23d360",
   "metadata": {},
   "outputs": [],
   "source": [
    "df1.head()"
   ]
  },
  {
   "cell_type": "code",
   "execution_count": null,
   "id": "31d696ac",
   "metadata": {},
   "outputs": [],
   "source": [
    "df1.isna().sum()"
   ]
  },
  {
   "cell_type": "code",
   "execution_count": null,
   "id": "15f0c31f",
   "metadata": {},
   "outputs": [],
   "source": [
    "len(df1.locality.unique())"
   ]
  },
  {
   "cell_type": "code",
   "execution_count": null,
   "id": "6e46dcfc",
   "metadata": {},
   "outputs": [],
   "source": [
    "#Handling the localities\n",
    "locality_counts=df1['locality'].value_counts()\n",
    "locality_counts.head(20).plot(kind='barh')"
   ]
  },
  {
   "cell_type": "code",
   "execution_count": null,
   "id": "7b5e2c2a",
   "metadata": {},
   "outputs": [],
   "source": [
    "#Filtering the localities with more than 40 properties\n",
    "rare_localities = locality_counts[locality_counts < 40].index\n",
    "\n",
    "df1['locality_simplified'] = df1['locality'].apply(lambda x: 'Other' if x in rare_localities else x)\n",
    "\n",
    "len(df1.locality_simplified.unique())"
   ]
  },
  {
   "cell_type": "code",
   "execution_count": null,
   "id": "4a17d9a9",
   "metadata": {},
   "outputs": [],
   "source": [
    "#Dropped 'locality' column\n",
    "df1.drop(['locality'],axis=1,inplace=True)\n",
    "df1.head()"
   ]
  },
  {
   "cell_type": "code",
   "execution_count": null,
   "id": "430bff4d",
   "metadata": {},
   "outputs": [],
   "source": [
    "#Set dummies for 'locality_simplified'\n",
    "locality_list = df1.locality_simplified.unique().tolist()\n",
    "df2 = pd.get_dummies(df1, columns=['locality_simplified'])\n",
    "df2.head()"
   ]
  },
  {
   "cell_type": "code",
   "execution_count": null,
   "id": "3ccaf335",
   "metadata": {},
   "outputs": [],
   "source": [
    "len(df2.region.unique())     "
   ]
  },
  {
   "cell_type": "code",
   "execution_count": null,
   "id": "512dae80",
   "metadata": {},
   "outputs": [],
   "source": [
    "#Group rare regions\n",
    "region_counts = df2['region'].value_counts()\n",
    "rare_regions = region_counts[region_counts < 10].index\n",
    "\n",
    "df2['region_simplified'] = df2['region'].apply(lambda x: 'Other' if x in rare_regions else x)\n",
    "len(df2.region_simplified.unique())\n"
   ]
  },
  {
   "cell_type": "code",
   "execution_count": null,
   "id": "53162796",
   "metadata": {},
   "outputs": [],
   "source": [
    "df2.drop(['region'], axis=1, inplace=True)\n",
    "df2.head()"
   ]
  },
  {
   "cell_type": "code",
   "execution_count": null,
   "id": "dfe0be69",
   "metadata": {},
   "outputs": [],
   "source": [
    "#Set dummies for 'region_simplified'\n",
    "region_list=df2.region_simplified.unique().tolist()\n",
    "df3= pd.get_dummies(df2, columns=['region_simplified'])\n",
    "df3.head()"
   ]
  },
  {
   "cell_type": "code",
   "execution_count": null,
   "id": "fefd9fb1",
   "metadata": {},
   "outputs": [],
   "source": [
    "df3.type.unique()"
   ]
  },
  {
   "cell_type": "code",
   "execution_count": null,
   "id": "dce48b89",
   "metadata": {},
   "outputs": [],
   "source": [
    "#Set dummies for 'type'\n",
    "type_list = df3.type.unique().tolist()\n",
    "df4= pd.get_dummies(df3,columns=['type'])\n",
    "df4.head()"
   ]
  },
  {
   "cell_type": "code",
   "execution_count": null,
   "id": "c89c7bb0",
   "metadata": {},
   "outputs": [],
   "source": [
    "df4.status.unique()"
   ]
  },
  {
   "cell_type": "code",
   "execution_count": null,
   "id": "a272c486",
   "metadata": {},
   "outputs": [],
   "source": [
    "#Set dummies for 'status'\n",
    "status_list=df4.status.unique().tolist()\n",
    "df5= pd.get_dummies(df4, columns=['status'])\n",
    "df5.head()"
   ]
  },
  {
   "cell_type": "code",
   "execution_count": null,
   "id": "8c0fd237",
   "metadata": {},
   "outputs": [],
   "source": [
    "df5.age.unique()"
   ]
  },
  {
   "cell_type": "code",
   "execution_count": null,
   "id": "dfb5d75f",
   "metadata": {},
   "outputs": [],
   "source": [
    "#Set dummies for 'age'\n",
    "age_list= df5.age.unique().tolist()\n",
    "df6= pd.get_dummies(df5, columns=['age'])\n",
    "df6.head()"
   ]
  },
  {
   "cell_type": "code",
   "execution_count": null,
   "id": "44243f80",
   "metadata": {},
   "outputs": [],
   "source": [
    "df6.isna().sum()"
   ]
  },
  {
   "cell_type": "code",
   "execution_count": null,
   "id": "d8aebe36",
   "metadata": {},
   "outputs": [],
   "source": [
    "df6.shape"
   ]
  },
  {
   "cell_type": "code",
   "execution_count": null,
   "id": "8bb68544",
   "metadata": {},
   "outputs": [],
   "source": [
    "df6.info()"
   ]
  },
  {
   "cell_type": "code",
   "execution_count": null,
   "id": "45fef28d",
   "metadata": {},
   "outputs": [],
   "source": [
    "df6.describe()"
   ]
  },
  {
   "cell_type": "code",
   "execution_count": null,
   "id": "2fadee82",
   "metadata": {},
   "outputs": [],
   "source": [
    "x= df6.drop('price_lakhs', axis=1)  \n",
    "y= df6['price_lakhs']"
   ]
  },
  {
   "cell_type": "code",
   "execution_count": null,
   "id": "5eebec07",
   "metadata": {},
   "outputs": [],
   "source": [
    "#Split the data \n",
    "from sklearn.model_selection import train_test_split\n",
    "\n",
    "x_train, x_test, y_train, y_test= train_test_split(x, y, test_size=0.2, random_state=11)"
   ]
  },
  {
   "cell_type": "code",
   "execution_count": null,
   "id": "a43eb1c0",
   "metadata": {},
   "outputs": [],
   "source": [
    "from sklearn.ensemble import RandomForestRegressor as RF\n",
    "model = RF(max_features= x_train.shape[1],\n",
    "                random_state=1)\n",
    "model.fit(x_train,y_train)"
   ]
  },
  {
   "cell_type": "code",
   "execution_count": null,
   "id": "1852bb13",
   "metadata": {},
   "outputs": [],
   "source": [
    "y_pred= model.predict(x_test)"
   ]
  },
  {
   "cell_type": "code",
   "execution_count": null,
   "id": "6d1d172f",
   "metadata": {},
   "outputs": [],
   "source": [
    "import matplotlib.pyplot as plt\n",
    "ax = plt.subplots(figsize=(12,12))[1]\n",
    "ax.scatter(y_test, y_pred)\n",
    "ax.set_xlabel(\"Actual Price\")\n",
    "ax.set_ylabel(\"Predicted Price\")"
   ]
  },
  {
   "cell_type": "code",
   "execution_count": null,
   "id": "1c6691f9",
   "metadata": {},
   "outputs": [],
   "source": [
    "# Residuals\n",
    "import seaborn as sns\n",
    "residuals = y_test - model.predict(x_test)\n",
    "sns.histplot(residuals, kde=True)\n",
    "plt.title(\"Residual Distribution\")\n",
    "plt.show()"
   ]
  },
  {
   "cell_type": "code",
   "execution_count": null,
   "id": "b4075a50",
   "metadata": {},
   "outputs": [],
   "source": [
    "from sklearn.metrics import r2_score \n",
    "r2 = r2_score(y_test, y_pred)\n",
    "r2"
   ]
  },
  {
   "cell_type": "code",
   "execution_count": null,
   "id": "515a8206",
   "metadata": {},
   "outputs": [],
   "source": [
    "#changing number of trees grown from the default of 100\n",
    "model_ = RF(max_features=x_train.shape[1],\n",
    "                n_estimators=500,\n",
    "                random_state=0).fit(x_train, y_train)\n",
    "y_hat = model_.predict(x_test)\n",
    "r2_score(y_test , y_hat)"
   ]
  },
  {
   "cell_type": "markdown",
   "id": "3f9942e8",
   "metadata": {},
   "source": [
    "Since the r2 score of model is slightly greater than model_ we will use model"
   ]
  },
  {
   "cell_type": "code",
   "execution_count": null,
   "id": "7f661212",
   "metadata": {},
   "outputs": [],
   "source": [
    "import joblib\n",
    "\n",
    "feature_names = x_train.columns.tolist()  \n",
    "joblib.dump(feature_names, 'feature_names.joblib')\n",
    "\n",
    "# Save the model\n",
    "joblib.dump(model, 'model_filename.joblib')\n",
    "\n",
    "# Save category lists\n",
    "joblib.dump(locality_list, 'locality_list.joblib')\n",
    "joblib.dump(region_list, 'region_list.joblib')\n",
    "joblib.dump(status_list, 'status_list.joblib')\n",
    "joblib.dump(age_list, 'age_list.joblib')\n",
    "joblib.dump(type_list, 'type_list.joblib')\n"
   ]
  }
 ],
 "metadata": {
  "kernelspec": {
   "display_name": "venv",
   "language": "python",
   "name": "python3"
  },
  "language_info": {
   "codemirror_mode": {
    "name": "ipython",
    "version": 3
   },
   "file_extension": ".py",
   "mimetype": "text/x-python",
   "name": "python",
   "nbconvert_exporter": "python",
   "pygments_lexer": "ipython3",
   "version": "3.12.7"
  }
 },
 "nbformat": 4,
 "nbformat_minor": 5
}
